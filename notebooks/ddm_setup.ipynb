{
 "cells": [
  {
   "cell_type": "code",
   "execution_count": null,
   "metadata": {},
   "outputs": [],
   "source": [
    "import glob \n",
    "import os \n",
    "import pandas as pd \n",
    "import numpy as np \n",
    "import rasterio\n",
    "import pickle\n",
    "from tqdm.notebook import tqdm \n",
    "from datetime import datetime"
   ]
  },
  {
   "cell_type": "markdown",
   "metadata": {},
   "source": [
    "## Create dataset for DDM \n",
    "\n",
    "DDM is a temporal model, meaning it should be trained to a specific period of time. Because our imagery cadence is inconsistent (e.g., we don't reliably haev 1 image per day or per week for each location), we modify the dataset to be organized by week. Each location should have one image per week, 52 images in total. If a location has more than one image on a given week, we randomly select one to use. If it has no images on a given week, we use the image from the previous week. \n",
    "\n",
    "The resulting dataset allows to us to train a DDM model for each week of the year. "
   ]
  },
  {
   "cell_type": "code",
   "execution_count": null,
   "metadata": {},
   "outputs": [],
   "source": [
    "truth_df = pd.read_csv('../local/truth.csv')\n",
    "truth_df.head()"
   ]
  },
  {
   "cell_type": "code",
   "execution_count": null,
   "metadata": {},
   "outputs": [],
   "source": [
    "def extract_week(img):\n",
    "    \"\"\"Extract the week from the image name\"\"\"\n",
    "    \n",
    "    dat = img.split(os.sep)[-1].split('_')[0]\n",
    "    dat = datetime.strptime(dat, '%Y%m%d')\n",
    "    week = dat.isocalendar()[1]\n",
    "    month = dat.month\n",
    "    return week, month\n"
   ]
  },
  {
   "cell_type": "code",
   "execution_count": null,
   "metadata": {},
   "outputs": [],
   "source": [
    "time_periods = {}\n",
    "\n",
    "for i, row in tqdm(truth_df.iterrows()): \n",
    "    \n",
    "    if row.label == 2:\n",
    "        continue \n",
    "        \n",
    "    time_periods[row.location_name] = {f\"week_{i}\" : {} for i in range(1,53)}\n",
    "    \n",
    "    ims = sorted(glob.glob(os.path.join(row.dir, '*.tif')))\n",
    "    im0 = ims[0]\n",
    "    \n",
    "    times = [extract_week(im) for im in ims]\n",
    "    weeks = [w for w, _ in times]\n",
    "    \n",
    "    weeks, inds = np.unique(weeks, return_index=True)\n",
    "    ims = np.array(ims)[inds]\n",
    "        \n",
    "    if weeks[0] != 1: \n",
    "        weeks = np.insert(weeks, 0, 1)\n",
    "        ims = np.insert(ims, 0, im0)\n",
    "            \n",
    "    for i in range(len(ims)):\n",
    "        \n",
    "        with rasterio.open(ims[i]) as src:\n",
    "            b, g, r, _ = src.read()\n",
    "\n",
    "        end = 53 if i == len(ims)-1 else weeks[i+1]\n",
    "        for w in range(weeks[i], end):\n",
    "            \n",
    "            time_periods[row.location_name][f\"week_{w}\"] = {\n",
    "                \"r\": r,\n",
    "                \"g\": g,\n",
    "                \"b\": b\n",
    "            }\n",
    "            \n",
    "    time_periods[row.location_name]['images'] = ims\n",
    "\n",
    "    \n"
   ]
  },
  {
   "cell_type": "code",
   "execution_count": null,
   "metadata": {},
   "outputs": [],
   "source": [
    "with open('time_periods.p', 'wb') as f: \n",
    "    pickle.dump(time_periods, f)"
   ]
  },
  {
   "cell_type": "code",
   "execution_count": null,
   "metadata": {},
   "outputs": [],
   "source": [
    "np.unique(weeks)"
   ]
  }
 ],
 "metadata": {
  "kernelspec": {
   "display_name": "Python 3",
   "language": "python",
   "name": "python3"
  },
  "language_info": {
   "codemirror_mode": {
    "name": "ipython",
    "version": 3
   },
   "file_extension": ".py",
   "mimetype": "text/x-python",
   "name": "python",
   "nbconvert_exporter": "python",
   "pygments_lexer": "ipython3",
   "version": "3.9.5"
  }
 },
 "nbformat": 4,
 "nbformat_minor": 2
}
