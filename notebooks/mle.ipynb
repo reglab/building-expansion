{
 "cells": [
  {
   "cell_type": "code",
   "execution_count": null,
   "metadata": {},
   "outputs": [],
   "source": [
    "import pandas as pd\n",
    "import os \n",
    "import numpy as np \n",
    "import tensorflow as tf\n",
    "import likelihood as lh\n",
    "from tqdm.notebook import tqdm "
   ]
  },
  {
   "cell_type": "markdown",
   "metadata": {},
   "source": [
    "### Apply the likelihood model \n",
    "\n",
    "The following code works on a directory `inference_results` which contains (pickled) files, each of these containing the output of \n",
    "the inference model on a given location. Each file should be an ndarray of shape `(m, dim_x, dim_y)` where `m` is the number of images corresponding to this location (typically approximately 100). "
   ]
  },
  {
   "cell_type": "code",
   "execution_count": null,
   "metadata": {},
   "outputs": [],
   "source": [
    "results_dir = 'inference_results'\n",
    "results = {}\n",
    "\n",
    "for i, loc in tqdm(enumerate(os.listdir(results_dir))):\n",
    "        \n",
    "    with open(os.path.join(results_dir, loc), 'rb') as f: \n",
    "        probs = pickle.load(f)\n",
    "        \n",
    "    probs = tf.convert_to_tensor(probs, dtype=float)\n",
    "    probs = tf.reshape(\n",
    "        probs, [probs.shape[0], probs.shape[1], probs.shape[2], 1]\n",
    "    )\n",
    "    \n",
    "    # kernel smoothing \n",
    "    smth = lh.tf_smooth(probs, 'box', size=3)\n",
    "    \n",
    "    # Apply model \n",
    "    seed = int(loc.split('_')[-1].split('.p')[0])\n",
    "    ts = lh.change_ts(smth, learning_rate=0.5, num_steps=4000, \n",
    "                      seed=seed, return_model=False)  \n",
    "    results[loc] = ts \n",
    "        \n",
    "    # save every 20 iterations \n",
    "    if i % 20 == 0: \n",
    "        with open('results.p', 'wb') as f: \n",
    "            pickle.dump(results, f)\n",
    "\n",
    "with open('results.p', 'wb') as f: \n",
    "    pickle.dump(results, f)"
   ]
  }
 ],
 "metadata": {
  "kernelspec": {
   "display_name": "Python 3",
   "language": "python",
   "name": "python3"
  },
  "language_info": {
   "codemirror_mode": {
    "name": "ipython",
    "version": 3
   },
   "file_extension": ".py",
   "mimetype": "text/x-python",
   "name": "python",
   "nbconvert_exporter": "python",
   "pygments_lexer": "ipython3",
   "version": "3.9.5"
  }
 },
 "nbformat": 4,
 "nbformat_minor": 2
}
