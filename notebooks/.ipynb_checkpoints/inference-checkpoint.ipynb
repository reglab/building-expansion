{
 "cells": [
  {
   "cell_type": "code",
   "execution_count": null,
   "metadata": {},
   "outputs": [],
   "source": [
    "import sys \n",
    "import glob \n",
    "import torch\n",
    "import pandas as pd\n",
    "import os \n",
    "import numpy as np \n",
    "import tensorflow as tf\n",
    "import likelihood as lh\n",
    "\n",
    "%load_ext autoreload\n",
    "%autoreload 2\n",
    "\n",
    "sys.path.insert( '../models/')\n",
    "from unet_model import UNet\n",
    "from tqdm.notebook import tqdm \n"
   ]
  },
  {
   "cell_type": "code",
   "execution_count": null,
   "metadata": {},
   "outputs": [],
   "source": [
    "#model = UNet(3, 2)\n",
    "model = UNet(4, 2, full_size=True)\n",
    "#model.load_state_dict(torch.load('~/datadrive/data/archive/saved_models/finished/model8_10_ia_data.pth'))\n",
    "model.load_state_dict(torch.load('../../datadrive/mixed_20epochs_11-12.pth'))"
   ]
  },
  {
   "cell_type": "code",
   "execution_count": null,
   "metadata": {},
   "outputs": [],
   "source": [
    "os.makedirs('inference_results')"
   ]
  },
  {
   "cell_type": "code",
   "execution_count": null,
   "metadata": {},
   "outputs": [],
   "source": [
    "os.path.exists('inference_results')"
   ]
  },
  {
   "cell_type": "code",
   "execution_count": null,
   "metadata": {},
   "outputs": [],
   "source": [
    "truth_df = pd.read_csv('~/datadrive/data/ground_truth_no_dups.csv')\n",
    "truth_df['dir'] = [os.path.join(\n",
    "    \"../../datadrive/data/processed/in_2019_batched\", v\n",
    ") for v in truth_df.location_name.values]\n",
    "\n",
    "truth_df.head()"
   ]
  },
  {
   "cell_type": "code",
   "execution_count": null,
   "metadata": {},
   "outputs": [],
   "source": [
    "dim = 200 \n",
    "out_dir = 'inference_results'\n",
    "\n",
    "for i, row in tqdm(truth_df.iterrows()): \n",
    "    \n",
    "    if row.label == 2 or \\\n",
    "        os.path.exists(os.path.join(out_dir, f'{row.location_name}.p')): \n",
    "        continue \n",
    "    \n",
    "    ims = sorted(glob.glob(os.path.join(row.dir, '*.tif')))\n",
    "    \n",
    "    # Compute image array \n",
    "    img_array = np.empty((len(ims), 4, dim, dim))\n",
    "    for i, im in enumerate(ims): \n",
    "    \n",
    "        with rasterio.open(im) as src:\n",
    "            b, g, r, n = src.read()\n",
    "\n",
    "        stack = (r,g,b,n)\n",
    "        rgb = np.stack(stack, axis=0)\n",
    "        np_image = ((rgb/rgb.max())*255).astype(np.uint8)\n",
    "        \n",
    "        img_array[i, :, :, :] = np_image\n",
    "        \n",
    "    # Apply model to array         \n",
    "    output = model(torch.Tensor(img_array)) # shape (len(ims), )\n",
    "    print(output.shape)\n",
    "    output = -output.detach().numpy().reshape(output.shape[0], 2,dim,dim)[:,1,:,:]\n",
    "    probs = 1 / (1 + np.exp(output))    \n",
    "    print(probs.shape)\n",
    "    \n",
    "    # Save output\n",
    "    with open(os.path.join(out_dir, f'{row.location_name}.p'), 'wb') as f: \n",
    "        pickle.dump(probs, f) \n"
   ]
  },
  {
   "cell_type": "code",
   "execution_count": null,
   "metadata": {},
   "outputs": [],
   "source": [
    "os.listdir(out_dir)"
   ]
  },
  {
   "cell_type": "code",
   "execution_count": null,
   "metadata": {},
   "outputs": [],
   "source": [
    "def add_noise(arr, perc_noise = 0.01): \n",
    "    \n",
    "    flat = arr.flatten()\n",
    "    n = len(arr.flatten())\n",
    "    n_pixels = round(perc_noise * n)\n",
    "    inds = np.random.choice(n, n_pixels, replace=False)\n",
    "    \n",
    "    flat[inds] = 1 - flat[inds] # Reverse probability \n",
    "    return flat.reshape(arr.shape)\n"
   ]
  },
  {
   "cell_type": "code",
   "execution_count": null,
   "metadata": {},
   "outputs": [],
   "source": [
    "out_dir = 'inference_results'"
   ]
  },
  {
   "cell_type": "code",
   "execution_count": null,
   "metadata": {},
   "outputs": [],
   "source": [
    "## Apply likelihood method \n",
    "\n",
    "#perc_noise = 0.02\n",
    "results = {}\n",
    "\n",
    "for i, loc in tqdm(enumerate(os.listdir(out_dir))):\n",
    "    \n",
    "#     loc_name = loc.split('.p')[0]\n",
    "#     if loc_name in results.keys():\n",
    "#         continue \n",
    "\n",
    "    if loc != 'loc_0901.p':\n",
    "        continue \n",
    "    \n",
    "    with open(os.path.join(out_dir, loc), 'rb') as f: \n",
    "        probs = pickle.load(f)\n",
    "        \n",
    "    seed = int(loc.split('_')[-1].split('.p')[0])\n",
    "        \n",
    "    #probs = add_noise(probs, perc_noise)    \n",
    "    probs = tf.convert_to_tensor(probs, dtype=float)\n",
    "    probs = tf.reshape(probs, [probs.shape[0], probs.shape[1], probs.shape[2], 1])\n",
    "    smth = lh.tf_smooth(probs, 'box', size=3)\n",
    "    ts, null, pre, post, t, t_weight = lh.change_ts(smth, learning_rate=0.5, num_steps=4000, return_model=True)\n",
    "    #ts = lh.change_ts(smth, learning_rate=0.5, num_steps=5000, return_model=False, seed=seed)\n",
    "#    print(ts[-1], row.label)\n",
    "    \n",
    "    \n",
    "    #results[loc_name] = ts \n",
    "    \n",
    "#     if i % 20 == 0: \n",
    "#         with open('results_noise_0.02.p', 'wb') as f: \n",
    "#             pickle.dump(results, f)\n",
    "\n",
    "        \n",
    "    "
   ]
  },
  {
   "cell_type": "code",
   "execution_count": null,
   "metadata": {},
   "outputs": [],
   "source": [
    "import matplotlib.pyplot as plt"
   ]
  },
  {
   "cell_type": "code",
   "execution_count": null,
   "metadata": {},
   "outputs": [],
   "source": [
    "os.makedirs('mle_ims')"
   ]
  },
  {
   "cell_type": "code",
   "execution_count": null,
   "metadata": {},
   "outputs": [],
   "source": [
    "import matplotlib as mpl\n",
    "mpl.rcParams['figure.figsize'] = (13,8)"
   ]
  },
  {
   "cell_type": "code",
   "execution_count": null,
   "metadata": {
    "scrolled": false
   },
   "outputs": [],
   "source": [
    "for i, im in enumerate([probs[0], probs[-2], pre, post]):\n",
    "\n",
    "    plt.imshow(im)\n",
    "    ax = plt.gca()\n",
    "    ax.axes.xaxis.set_visible(False)\n",
    "    ax.axes.yaxis.set_visible(False)\n",
    "    plt.savefig(f'mle_ims/3mle_{i}.png')\n",
    "    plt.show()\n",
    "    \n",
    "    \n",
    "    \n"
   ]
  },
  {
   "cell_type": "code",
   "execution_count": null,
   "metadata": {},
   "outputs": [],
   "source": [
    "import scipy.stats as st\n"
   ]
  },
  {
   "cell_type": "code",
   "execution_count": null,
   "metadata": {},
   "outputs": [],
   "source": [
    "fig, ax = plt.subplots(2,2, figsize=(15,15))\n",
    "ax = ax.ravel()\n",
    "\n",
    "ax[0].imshow(probs[0])\n",
    "\n",
    "ax[1].imshow(probs[-1])\n",
    "\n",
    "ax[2].imshow(st.norm.ppf(pre))\n",
    "\n",
    "ax[3].imshow(st.norm.ppf(post))\n",
    "\n",
    "for i in range(4):\n",
    "    \n",
    "    ax[i].axes.xaxis.set_visible(False)\n",
    "    ax[i].axes.yaxis.set_visible(False)\n",
    "    \n",
    "\n",
    "\n",
    "\n",
    "\n"
   ]
  },
  {
   "cell_type": "code",
   "execution_count": null,
   "metadata": {},
   "outputs": [],
   "source": [
    "with open('results_noise_0.02_complete.p', 'wb') as f: \n",
    "    pickle.dump(results, f)"
   ]
  }
 ],
 "metadata": {
  "kernelspec": {
   "display_name": "Python 3",
   "language": "python",
   "name": "python3"
  },
  "language_info": {
   "codemirror_mode": {
    "name": "ipython",
    "version": 3
   },
   "file_extension": ".py",
   "mimetype": "text/x-python",
   "name": "python",
   "nbconvert_exporter": "python",
   "pygments_lexer": "ipython3",
   "version": "3.9.5"
  }
 },
 "nbformat": 4,
 "nbformat_minor": 2
}
