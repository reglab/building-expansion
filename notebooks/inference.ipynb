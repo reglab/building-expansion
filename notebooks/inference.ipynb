{
 "cells": [
  {
   "cell_type": "code",
   "execution_count": null,
   "metadata": {},
   "outputs": [],
   "source": [
    "import sys \n",
    "import glob \n",
    "import torch\n",
    "import pandas as pd\n",
    "import os \n",
    "import numpy as np \n",
    "import pickle\n",
    "import rasterio\n",
    "import tensorflow as tf\n",
    "\n",
    "sys.path.append('../models/')\n",
    "sys.path.append('../methods')\n",
    "import likelihood as lh\n",
    "from unet_model import UNet\n",
    "from tqdm.notebook import tqdm \n"
   ]
  },
  {
   "cell_type": "markdown",
   "metadata": {},
   "source": [
    "## Inference \n",
    "\n",
    "This notebook runs inference with the trained UNet model over. We store resutls for each location as a pickle file, containing the matrix of probabilities for each image. "
   ]
  },
  {
   "cell_type": "code",
   "execution_count": null,
   "metadata": {},
   "outputs": [],
   "source": [
    "model = UNet(4, 2, full_size=True)\n",
    "model.load_state_dict(torch.load('../local/unet_checkpoint.pth'))"
   ]
  },
  {
   "cell_type": "code",
   "execution_count": null,
   "metadata": {},
   "outputs": [],
   "source": [
    "out_dir = '../local/inference_results'\n",
    "if not os.path.exists(out_dir)\n",
    "    os.makedirs(out_dir)"
   ]
  },
  {
   "cell_type": "code",
   "execution_count": null,
   "metadata": {},
   "outputs": [],
   "source": [
    "truth_df = pd.read_csv('../local/truth.csv')\n",
    "truth_df.head()"
   ]
  },
  {
   "cell_type": "code",
   "execution_count": null,
   "metadata": {},
   "outputs": [],
   "source": [
    "dim = 200 \n",
    "\n",
    "\n",
    "for i, row in tqdm(truth_df.iterrows()): \n",
    "    \n",
    "    if row.label == 2 or \\\n",
    "        os.path.exists(os.path.join(out_dir, f'{row.location_name}.p')): \n",
    "        continue \n",
    "    \n",
    "    # sort images so they're in proper order\n",
    "    ims = sorted(glob.glob(os.path.join(row.dir, '*.tif')))\n",
    "    \n",
    "    img_array = np.empty((len(ims), 4, dim, dim))\n",
    "    for i, im in enumerate(ims): \n",
    "    \n",
    "        with rasterio.open(im) as src:\n",
    "            b, g, r, n = src.read()\n",
    "\n",
    "        stack = (r,g,b,n)\n",
    "        rgb = np.stack(stack, axis=0)\n",
    "        np_image = ((rgb/rgb.max())*255).astype(np.uint8)\n",
    "        img_array[i, :, :, :] = np_image\n",
    "        \n",
    "    # Apply model to image array         \n",
    "    output = model(torch.Tensor(img_array)) \n",
    "    output = -output.detach().numpy().reshape(\n",
    "        output.shape[0], 2,dim,dim\n",
    "    )[:,1,:,:]\n",
    "    probs = 1 / (1 + np.exp(output))    \n",
    "    \n",
    "    # Save output\n",
    "    with open(os.path.join(out_dir, f'{row.location_name}.p'), 'wb') as f: \n",
    "        pickle.dump(probs, f) \n"
   ]
  }
 ],
 "metadata": {
  "kernelspec": {
   "display_name": "Python 3",
   "language": "python",
   "name": "python3"
  },
  "language_info": {
   "codemirror_mode": {
    "name": "ipython",
    "version": 3
   },
   "file_extension": ".py",
   "mimetype": "text/x-python",
   "name": "python",
   "nbconvert_exporter": "python",
   "pygments_lexer": "ipython3",
   "version": "3.9.5"
  }
 },
 "nbformat": 4,
 "nbformat_minor": 2
}
