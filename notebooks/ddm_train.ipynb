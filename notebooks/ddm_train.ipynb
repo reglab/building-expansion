{
 "cells": [
  {
   "cell_type": "code",
   "execution_count": null,
   "metadata": {},
   "outputs": [],
   "source": [
    "import numpy as np\n",
    "import tensorflow as tf\n",
    "import pickle\n",
    "import glob\n",
    "import pandas as pd\n",
    "import os \n",
    "import sys\n",
    "\n",
    "sys.path.append('../model')\n",
    "import likelihood as lh\n",
    "import ddm\n",
    "from tqdm.notebook import tqdm "
   ]
  },
  {
   "cell_type": "markdown",
   "metadata": {},
   "source": [
    "## Training\n",
    "\n",
    "We train one model per week, from week 11 to week 52, using the previous ten weeks as training. We train one model per band. We train on non-anomalous image, so first we remove all known anomalies from the training set. "
   ]
  },
  {
   "cell_type": "code",
   "execution_count": null,
   "metadata": {},
   "outputs": [],
   "source": [
    "with open('../../time_periods.p', 'rb') as f: \n",
    "    periods = pickle.load(f)"
   ]
  },
  {
   "cell_type": "code",
   "execution_count": null,
   "metadata": {},
   "outputs": [],
   "source": [
    "truth_df = pd.read_csv('../../truth_cleaned.csv')\n",
    "positive_locs = truth_df[truth_df.label == True].location_name.to_numpy()\n",
    "\n",
    "for loc in positive_locs: \n",
    "    periods.pop(loc, None)"
   ]
  },
  {
   "cell_type": "code",
   "execution_count": null,
   "metadata": {},
   "outputs": [],
   "source": [
    "def get_band_images(band, inds, week, basis_length):\n",
    "    \"\"\"Get training and test images from periods dictionary, ending at \n",
    "    given week, in given band, and extending basis_length weeks backwards. \n",
    "    \n",
    "    Args: \n",
    "        band (float): either 'r', 'g', or 'b' \n",
    "        inds (ndarray): indices of images in dictionary \n",
    "        week (int): week of last (test) image \n",
    "        basis_length (int): number of previous weeks to get. \n",
    "        \n",
    "    Returns: \n",
    "        basis (tf.tensor): basis_length number of images for each \n",
    "            index prior to week. \n",
    "            shape = (len(inds), basis_length, dim_x, dim_y). \n",
    "        test (tf.tensor): image at given week for each index. \n",
    "            shape = (len(inds), 1, dim_x, dim_y, 1)\n",
    "    \n",
    "    \"\"\"\n",
    "    \n",
    "    imgs = np.array(list(periods.keys()))[inds]\n",
    "    basis = []\n",
    "    test = []\n",
    "    \n",
    "    for im in imgs: \n",
    "        \n",
    "        basis.append(\n",
    "            [periods[im][f'week_{w}'][band] \n",
    "             for w in range(week-basis_length,week)]\n",
    "        )\n",
    "        test.append(periods[im][f\"week_{week}\"][band])\n",
    "        \n",
    "    basis = tf.convert_to_tensor(np.array(basis), dtype=float)\n",
    "    basis = tf.reshape(\n",
    "        basis, [basis.shape[0], basis.shape[1], \n",
    "                basis.shape[2], basis.shape[3], 1]\n",
    "    )\n",
    "    \n",
    "    test = tf.convert_to_tensor(np.array(test), dtype=float)\n",
    "    test = tf.reshape(\n",
    "        test, [test.shape[0], 1, test.shape[1], test.shape[2], 1]\n",
    "    )\n",
    "    \n",
    "    return basis, test"
   ]
  },
  {
   "cell_type": "code",
   "execution_count": null,
   "metadata": {},
   "outputs": [],
   "source": [
    "# Train\n",
    "\n",
    "basis_length = 10 \n",
    "weeks = range(basis_length + 1, 53)\n",
    "\n",
    "n_train_samples = 500 # Number of images to use for training \n",
    "n_locations = len(periods)\n",
    "\n",
    "for w in tqdm(weeks): \n",
    "    \n",
    "    # skip if model already exists \n",
    "    if os.path.exists(f'../../models/model_week_{w}'):\n",
    "        continue\n",
    "    \n",
    "    # Model for this week \n",
    "    w_model = {}\n",
    "    \n",
    "    # Grab random sample of (negative) images \n",
    "    inds = np.random.choice(n_locations, n_train_samples, replace=False)\n",
    "    \n",
    "    for band in ['r', 'g', 'b']:\n",
    "        \n",
    "        X, y = get_band_images(band, inds, w, basis_length)\n",
    "        w_model[band] = ddm.fit_observation(\n",
    "            X, y, num_steps=2000, learning_rate=0.001,\n",
    "            reg=0.01, normalization='none'\n",
    "        )\n",
    "        \n",
    "    with open(f'../../models/model_week_{w}', 'wb') as f: \n",
    "        pickle.dump(w_model, f)\n",
    "        \n"
   ]
  },
  {
   "cell_type": "markdown",
   "metadata": {},
   "source": [
    "## Predict"
   ]
  },
  {
   "cell_type": "code",
   "execution_count": null,
   "metadata": {},
   "outputs": [],
   "source": [
    "with open('../../time_periods.p', 'rb') as f: \n",
    "    periods = pickle.load(f)"
   ]
  },
  {
   "cell_type": "code",
   "execution_count": null,
   "metadata": {},
   "outputs": [],
   "source": [
    "# Load all models \n",
    "\n",
    "models = {}\n",
    "model_dir = '../../models'\n",
    "\n",
    "for m in os.listdir(model_dir):\n",
    "    \n",
    "    week = m.split('_')[-1]\n",
    "    with open(os.path.join(model_dir, m), 'rb') as f: \n",
    "        models[int(week)] = pickle.load(f)\n"
   ]
  },
  {
   "cell_type": "code",
   "execution_count": null,
   "metadata": {},
   "outputs": [],
   "source": [
    "def get_loc_images(band, loc, week, basis_length):\n",
    "    \"\"\"Get images from specific key in periods\"\"\"\n",
    "    \n",
    "    basis = [periods[loc][f'week_{w}'][band] \n",
    "         for w in range(week-basis_length,week)]\n",
    "        \n",
    "    test = periods[loc][f\"week_{week}\"][band]\n",
    "        \n",
    "    basis = tf.convert_to_tensor(np.array(basis), dtype=float)\n",
    "    basis = tf.reshape(\n",
    "        basis, [1, basis.shape[0], \n",
    "                basis.shape[1], basis.shape[2], 1]\n",
    "    )\n",
    "    \n",
    "    test = tf.convert_to_tensor(np.array(test), dtype=float)\n",
    "    test = tf.reshape(\n",
    "        test, [1, 1, test.shape[0], test.shape[1], 1]\n",
    "    )\n",
    "    \n",
    "    return basis, test"
   ]
  },
  {
   "cell_type": "code",
   "execution_count": null,
   "metadata": {},
   "outputs": [],
   "source": [
    "results = {}\n",
    "\n",
    "for loc in tqdm(periods.keys()):\n",
    "    \n",
    "    results[loc] = {}\n",
    "    \n",
    "    for week in range(11, 53):\n",
    "        \n",
    "        model_w = models[week]\n",
    "        results[loc][week] = {}\n",
    "        \n",
    "        for band in ['r', 'g', 'b']:\n",
    "            \n",
    "            model = model_w[band]\n",
    "            X, y = get_loc_images(band, loc, week, basis_length)      \n",
    "            hot_score = ddm.hot_detect(model['gamma'], basis=X, test=y, rmse=model['rmse'],\n",
    "                               normalization='none', mean=model['mean'], std=model['std'],\n",
    "                               reduce=True)\n",
    "\n",
    "            results[loc][week][band] = hot_score.numpy()[0]\n",
    "    "
   ]
  },
  {
   "cell_type": "code",
   "execution_count": null,
   "metadata": {},
   "outputs": [],
   "source": [
    "with open('../../ddm_results.p', 'wb') as f: \n",
    "    pickle.dump(results, f)"
   ]
  }
 ],
 "metadata": {
  "kernelspec": {
   "display_name": "Python 3",
   "language": "python",
   "name": "python3"
  },
  "language_info": {
   "codemirror_mode": {
    "name": "ipython",
    "version": 3
   },
   "file_extension": ".py",
   "mimetype": "text/x-python",
   "name": "python",
   "nbconvert_exporter": "python",
   "pygments_lexer": "ipython3",
   "version": "3.9.5"
  }
 },
 "nbformat": 4,
 "nbformat_minor": 2
}
